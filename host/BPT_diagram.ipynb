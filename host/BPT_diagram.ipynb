{
 "cells": [
  {
   "cell_type": "markdown",
   "metadata": {},
   "source": [
    "# Figure 10"
   ]
  },
  {
   "cell_type": "code",
   "execution_count": 1,
   "metadata": {},
   "outputs": [],
   "source": [
    "import json\n",
    "import numpy as np\n",
    "\n",
    "\n",
    "import matplotlib\n",
    "import matplotlib.pyplot as plt\n",
    "fs = 10\n",
    "matplotlib.rcParams['font.size']=fs\n",
    "ms = 6\n",
    "matplotlib.rcParams['lines.markersize']=ms\n",
    "from matplotlib import gridspec"
   ]
  },
  {
   "cell_type": "code",
   "execution_count": 2,
   "metadata": {},
   "outputs": [],
   "source": [
    "def custom_bptax(ax):\n",
    "    ax.tick_params(which = 'major', length = 3, top=True, direction = \"in\", right = True)\n",
    "    ax.tick_params(which = 'minor', length = 1.5, top=True, direction = \"in\", right = True)\n",
    "    ax.set_ylim(-1.2, 1.5)\n",
    "    ax.xaxis.set_major_locator(plt.MultipleLocator(0.5))\n",
    "    ax.xaxis.set_minor_locator(plt.MultipleLocator(0.1))\n",
    "    ax.yaxis.set_major_locator(plt.MultipleLocator(0.5))\n",
    "    ax.yaxis.set_minor_locator(plt.MultipleLocator(0.1))\n"
   ]
  },
  {
   "cell_type": "code",
   "execution_count": 3,
   "metadata": {},
   "outputs": [
    {
     "data": {
      "image/png": "[encoded data removed]",
      "text/plain": [
       "<Figure size 396x201.6 with 3 Axes>"
      ]
     },
     "metadata": {
      "needs_background": "light"
     },
     "output_type": "display_data"
    }
   ],
   "source": [
    "    xmin1 = -1.7\n",
    "    xmax1 = 0.7\n",
    "    \n",
    "    xmin2 = -1.2\n",
    "    xmax2 = 0.8\n",
    "    \n",
    "    xmin3 = -2.2\n",
    "    xmax3 = 0\n",
    "    \n",
    "    xlen1 = xmax1 - xmin1\n",
    "    xlen2 = xmax2 - xmin2\n",
    "    xlen3 = xmax3 - xmin3\n",
    "    \n",
    "    fig = plt.figure(figsize = (5.5, 2.8))\n",
    "    gs = fig.add_gridspec(1, 3, hspace=0, wspace = 0, \n",
    "                          width_ratios = [1, xlen2/xlen1, xlen3/xlen1])\n",
    "    ax = plt.subplot(gs[0])\n",
    "    lgxs1_ = np.linspace(xmin1, -0.01, 100)\n",
    "    lgxs1 = np.linspace(-1.3, -0.01, 100)\n",
    "    lgys_drain = 1.1 - 0.6 / (0.01 - lgxs1_)\n",
    "    lgys_k03 = 1.3 + 0.61 / (lgxs1 - 0.05)\n",
    "    lgxs2 = np.linspace(xmin1, 0.3, 100)\n",
    "    lgys_k01 = 1.19 + 0.61 / (lgxs2 - 0.47)\n",
    "    ax.set_xlabel(\"log[NII]/H\"+r\"$\\alpha$\")\n",
    "    ax.set_ylabel(\"log[OIII]/H\"+r\"$\\beta$\")\n",
    "    ax.plot(lgxs1, lgys_k03, color = \"k\", linestyle = \"--\")\n",
    "    ax.plot(lgxs2, lgys_k01, color = \"k\", linestyle = \"-\")\n",
    "    ax.text(-1.5, -0.5, \"Star\")\n",
    "    ax.text(-1.6, -0.7, \"Forming\")\n",
    "    ax.text(-0.35, -0.9, \"Composite\", rotation = -80)\n",
    "    ax.text(0, 0.4, \"AGN\")\n",
    "    ax.set_xlim(xmin1, xmax1)\n",
    "    x =  [-0.7375, 0]\n",
    "    y = [-0.0488, 0.4709,  0.2697] \n",
    "    ax.errorbar(x[0], y[0], yerr = [[y[1]], [y[2]]], fmt = \"o\", color=\"r\")\n",
    "    ax.arrow(x[0], y[0], -0.15, 0, head_width = 0.1, head_length = 0.1, color = \"r\",\n",
    "             zorder = 10)\n",
    "    custom_bptax(ax)\n",
    "    \n",
    "    \n",
    "    ax =plt.subplot(gs[1])\n",
    "    lgxs1 = np.linspace(xmin2, 0.1, 100)\n",
    "    lgys_k01 = 1.3 + 0.72 / (lgxs1 - 0.32)\n",
    "    \n",
    "    lgxs2 = np.linspace(-0.31, xmax2, 100)\n",
    "    lgys2 = 1.89 * lgxs2 + 0.76\n",
    "    ax.plot(lgxs1, lgys_k01, color = \"k\", linestyle = \"-\")\n",
    "    ax.plot(lgxs2, lgys2, color = \"k\", linestyle = \"-.\")\n",
    "    ax.set_xlabel(\"log[SII]/H\"+r\"$\\alpha$\")\n",
    "    ax.text(-0.9, -0.5, \"Star\")\n",
    "    ax.text(-1., -0.7, \"Forming\")\n",
    "    ax.text(-0.75, 1, \"Seyfert\")\n",
    "    ax.text(0.1, -0.5, \"LINER\")\n",
    "    ax.set_xlim(xmin2, xmax2)\n",
    "    x = [-0.3989, 0.2518, 0.1613]\n",
    "    y = [-0.0488, 0.4709,  0.2697] \n",
    "    ax.errorbar(x[0], y[0], yerr = [[y[1]], [y[2]]], xerr = [[x[1]], [x[2]]], fmt = \"o\", color=\"r\")\n",
    "    ax.set_yticklabels([])\n",
    "    custom_bptax(ax)\n",
    "    \n",
    "    ax = plt.subplot(gs[2])\n",
    "    lgxs = np.linspace(xmin3, -0.8, 100)\n",
    "    lgys_k01 = 1.33 + 0.73 / (lgxs + 0.59)\n",
    "    lgxs2 = np.linspace(-1.13, xmax3, 100)\n",
    "    lgys2 = 1.18 * lgxs2 + 1.30\n",
    "    ax.plot(lgxs2, lgys2, color = \"k\", linestyle = \"-.\")\n",
    "    ax.plot(lgxs, lgys_k01, color = \"k\", linestyle = \"-\")\n",
    "    ax.set_xlabel(\"log[OI]/H\"+r\"$\\alpha$\")\n",
    "    ax.text(-1.5, 1, \"Seyfert\")\n",
    "    ax.text(-0.7, -0.5, \"LINER\")\n",
    "    ax.set_xlim(xmin3, xmax3)\n",
    "    x = [-0.9354, 0]\n",
    "    y = [-0.0488, 0.4709,  0.2697] \n",
    "    ax.arrow(x[0], y[0], -0.15, 0, head_width = 0.1, head_length = 0.1, color = \"r\",\n",
    "             zorder = 10)\n",
    "    ax.errorbar(x[0], y[0], yerr = [[y[1]], [y[2]]], fmt = \"o\", color=\"r\")\n",
    "    ax.set_yticklabels([])\n",
    "    custom_bptax(ax)\n",
    "    \n",
    "    plt.tight_layout(rect = (-0.02, -0.02, 1.02, 1.02))"
   ]
  },
  {
   "cell_type": "code",
   "execution_count": null,
   "metadata": {},
   "outputs": [],
   "source": []
  }
 ],
 "metadata": {
  "kernelspec": {
   "display_name": "Python 3 (ipykernel)",
   "language": "python",
   "name": "python3"
  },
  "language_info": {
   "codemirror_mode": {
    "name": "ipython",
    "version": 3
   },
   "file_extension": ".py",
   "mimetype": "text/x-python",
   "name": "python",
   "nbconvert_exporter": "python",
   "pygments_lexer": "ipython3",
   "version": "3.9.7"
  }
 },
 "nbformat": 4,
 "nbformat_minor": 4
}

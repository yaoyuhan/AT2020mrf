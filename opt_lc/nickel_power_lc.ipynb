{
 "cells": [
  {
   "cell_type": "markdown",
   "metadata": {},
   "source": [
    "# Figure 14"
   ]
  },
  {
   "cell_type": "code",
   "execution_count": 1,
   "metadata": {},
   "outputs": [],
   "source": [
    "import os\n",
    "import numpy as np\n",
    "from scipy.interpolate import interp1d\n",
    "\n",
    "import pysynphot as S\n",
    "\n",
    "import astropy.io.ascii as asci\n",
    "from astropy.table import Table\n",
    "\n",
    "import astropy.constants as const\n",
    "Msun = const.M_sun.cgs.value\n",
    "c = const.c.cgs.value\n",
    "\n",
    "kappa_opt = 0.07\n",
    "v_phot = 2e+4 * 1e+5 # cm/s\n",
    "\n",
    "from arnett import model_arnett_modified\n",
    "from fit_utils import cc_bol, flux2lum"
   ]
  },
  {
   "cell_type": "code",
   "execution_count": 2,
   "metadata": {},
   "outputs": [],
   "source": [
    "import matplotlib\n",
    "import matplotlib.pyplot as plt\n",
    "fs= 10\n",
    "matplotlib.rcParams['font.size']=fs\n",
    "ms = 6\n",
    "matplotlib.rcParams['lines.markersize']=ms"
   ]
  },
  {
   "cell_type": "code",
   "execution_count": 3,
   "metadata": {},
   "outputs": [],
   "source": [
    "nu_pool = {\n",
    " 'r.ztf': 471994480402802.2,\n",
    " 'g.ztf': 634121907623677.2,\n",
    " 'i.ztf': 380021535091050.1,\n",
    " 'o.atlas': 450003936111481.4,\n",
    " 'c.atlas': 575819723942441.0}\n",
    "\n",
    "wave_pool = { \n",
    " 'r.ztf': 6356.006530923384,\n",
    " 'g.ztf': 4730.95151568295,\n",
    " 'i.ztf': 7894.289462520127,\n",
    " 'o.atlas': 6666.608354414031,\n",
    " 'c.atlas': 5209.963944027523}"
   ]
  },
  {
   "cell_type": "code",
   "execution_count": 4,
   "metadata": {},
   "outputs": [],
   "source": [
    "def create_new_yticks2(ylims2, which = \"major\"):\n",
    "    yticks2_new = []\n",
    "    if which==\"major\":\n",
    "        candi = np.arange(12, 15.4, 0.2)\n",
    "    else:\n",
    "        candi = np.arange(12, 15.25, 0.05)\n",
    "    for x in candi:\n",
    "        if x>ylims2[0] and x<ylims2[1]:\n",
    "            yticks2_new.append(x)\n",
    "    yticks2_new = np.array(yticks2_new)\n",
    "    return yticks2_new"
   ]
  },
  {
   "cell_type": "code",
   "execution_count": 5,
   "metadata": {},
   "outputs": [],
   "source": [
    "def get_Lbol_at2020mrf(SNT = 3, remove_atlas = True):\n",
    "    # it's better to get the bolometric light curve  to be compared with literature events\n",
    "    T = 1e+4\n",
    "    t0 = 59012   \n",
    "    z = 0.1353\n",
    "    \n",
    "    name = \"ZTF20abfhyil\"\n",
    "    fname = '../data/data_20mrf/phot/%s_all_lc.dat'%(name)\n",
    "    lc_data = asci.read(fname)\n",
    "\n",
    "    # convert to rest-frame days\n",
    "    nu_all_obs = np.array([nu_pool[x['filter']] for x in lc_data])\n",
    "    nu_all = nu_all_obs * (1+z) # rest-frame wavelength used for fit\n",
    "\n",
    "    # convert to luminosity: nuLnu \n",
    "    # not that this quantity is the same in either rest-frame or observer's frame\n",
    "    lum_all = np.array(flux2lum(lc_data[\"uJy.0\"], nu_all_obs, z))\n",
    "    e_lum_all = np.array(flux2lum(lc_data[\"duJy.0\"], nu_all_obs, z))\n",
    "\n",
    "    fac_all = 1 / cc_bol(T, nu_all) # from nuLnu to bolometric luminosity\n",
    "    \n",
    "    lc_data[\"L_bol\"] = lum_all * fac_all\n",
    "    lc_data[\"L_bol_unc\"] = e_lum_all * fac_all\n",
    "    lc_data[\"phase_rest\"] = (lc_data['mjd'] - t0) /(1+z) \n",
    "    ix = lc_data[\"uJy.0\"] > (lc_data[\"duJy.0\"]*SNT)\n",
    "    lc = lc_data[ix]\n",
    "    if remove_atlas:\n",
    "        ix = [x[-5:]!=\"atlas\" for x in lc[\"filter\"]]\n",
    "        ix = np.array(ix)\n",
    "        lc = lc[ix]\n",
    "    return lc"
   ]
  },
  {
   "cell_type": "code",
   "execution_count": 6,
   "metadata": {},
   "outputs": [],
   "source": [
    "def plot_Lbol():\n",
    "    lc = get_Lbol_at2020mrf(SNT = 2.5)\n",
    "    \n",
    "    plt.figure(figsize = (4.8, 3.6))\n",
    "    ax = plt.subplot(111)\n",
    "    \n",
    "    ix1 = lc[\"phase_rest\"]<5\n",
    "    #ix2 = lc[\"phase_rest\"]>30\n",
    "    ix = (~ix1) #& (~ix2)\n",
    "    \n",
    "    x = lc[\"phase_rest\"][ix1]\n",
    "    y = np.log10(lc[\"L_bol\"][ix1])\n",
    "    yerr = lc[\"L_bol_unc\"][ix1] / lc[\"L_bol\"][ix1] / np.log(10)\n",
    "    ax.errorbar(x, y, yerr, fmt = \"^\", markersize = ms-1,\n",
    "                color = \"k\", alpha = 1, markerfacecolor = \"white\")\n",
    "    x = lc[\"phase_rest\"][ix]\n",
    "    y = np.log10(lc[\"L_bol\"][ix])\n",
    "    yerr = lc[\"L_bol_unc\"][ix] / lc[\"L_bol\"][ix] / np.log(10)\n",
    "    ax.errorbar(x, y, yerr, fmt = \"o\", markersize = ms-1, color = \"k\", alpha = 1, label = \"AT2020mrf\")\n",
    "    \n",
    "    custom_ax(ax)\n",
    "    ax.legend(loc = \"upper right\")\n",
    "    \n",
    "    plt.tight_layout(rect = (-0.03, -0.03, 1.04, 1.03))"
   ]
  },
  {
   "cell_type": "code",
   "execution_count": 7,
   "metadata": {},
   "outputs": [],
   "source": [
    "def custom_ax(ax, do_models = True):\n",
    "    \n",
    "    ax.tick_params(which = 'major', length = 4, top=True, direction = \"in\", right = False)\n",
    "    ax.tick_params(which = 'minor', length = 2, top=True, direction = \"in\", right = False)\n",
    "    ax.yaxis.set_major_locator(plt.MultipleLocator(0.5))\n",
    "    ax.yaxis.set_minor_locator(plt.MultipleLocator(0.1))\n",
    "    ax.xaxis.set_major_locator(plt.MultipleLocator(5))\n",
    "    ax.xaxis.set_minor_locator(plt.MultipleLocator(1))\n",
    "    ax.set_xlabel(\"Rest-frame Days Since Explosion\")\n",
    "    ax.set_ylabel(\"log\"+r\"$L_{\\rm bol}$\"+\" (erg/s)\")\n",
    "    \n",
    "    ymin = np.log10(9e+41)\n",
    "    ymax = 43.9\n",
    "    ax.set_ylim(ymin, ymax)   \n",
    "\n",
    "    ########## right y axis ##########\n",
    "    # right side show the Radius evolution\n",
    "    axi2 = ax.twinx()\n",
    "    axi2.tick_params(which = 'major', length = 4, direction = \"in\")\n",
    "    axi2.tick_params(which = 'minor', length = 2, direction = \"in\")\n",
    "\n",
    "    T = 1e+4 # K\n",
    "    multi = 4 * np.pi * const.sigma_sb.cgs.value * T**4\n",
    "    ymax2 = np.log10(np.sqrt( 10**ymax / multi))\n",
    "    ymin2 = np.log10(np.sqrt( 10**ymin / multi))\n",
    "    ylims2 = (ymin2, ymax2)\n",
    "    yticks2_label = create_new_yticks2(ylims2, which = \"major\")\n",
    "    yticks2_real = []\n",
    "    for x in yticks2_label:\n",
    "        R_cm = 10**x\n",
    "        temp = np.log10(R_cm**2 * multi)\n",
    "        yticks2_real.append(temp)\n",
    "    yticks2_real = np.array(yticks2_real)\n",
    "    \n",
    "    yticks2_label_minor = create_new_yticks2(ylims2, which = \"minor\")\n",
    "    yticks2_real_minor = []\n",
    "    for x in yticks2_label_minor:\n",
    "        R_cm = 10**x\n",
    "        temp = np.log10(R_cm**2 * multi)\n",
    "        yticks2_real_minor.append(temp)\n",
    "    yticks2_real_minor = np.array(yticks2_real_minor)\n",
    "    \n",
    "    axi2.set_ylim(ymin, ymax)\n",
    "    axi2.set_yticks(yticks2_real, minor = False)\n",
    "    #axi2.set_yticklabels(yticks2_label, minor = False)\n",
    "    yticks2_label_text = []\n",
    "    for x in yticks2_label:\n",
    "        yticks2_label_text.append(\"%.1f\"%x)\n",
    "    axi2.set_yticklabels(yticks2_label_text, minor = False)\n",
    "    axi2.set_yticks(yticks2_real_minor, minor = True)\n",
    "    axi2.set_ylabel(\"log\"+r\"$R_{\\rm bb}$\"+\" (cm)\")\n",
    "    \n",
    "    xmin = -1\n",
    "    xmax = 37\n",
    "    ax.set_xlim(xmin, xmax)\n",
    "\n",
    "    # compare to 1998bw (see Figure 7 of Olivares+2012)\n",
    "    \n",
    "    dt = asci.read(\"./98bw_Lbol/98bw_Lbol\")\n",
    "    color = \"salmon\"\n",
    "    ax.plot(dt[\"x\"], np.log10(10**dt[\"y\"]*0.7), color = color, label = \"SN1998bw\"+r\"$\\times0.7$\", linewidth = 2)\n",
    "    \n",
    "    if do_models:\n",
    "        # fit a model by eye....\n",
    "        ts_ = np.linspace(0 , 40, 401)\n",
    "        \n",
    "        Mni_ = 0.4\n",
    "        Mej_ = 1.3\n",
    "        Mej = Mej_ * Msun\n",
    "        taum = np.sqrt(2 * kappa_opt * Mej / 13.8 / v_phot / c) \n",
    "        taum_ = taum / 24/3600\n",
    "        Ls = model_arnett_modified(ts_, taum_ = taum_, Mni_ = Mni_, t0_ = 30)\n",
    "        ax.plot(ts_, np.log10(Ls), color = \"tab:orange\", linewidth = 1,\n",
    "                linestyle = \"-.\",\n",
    "                label = r\"$M_{\\rm ej} = 1.3\\,M_\\odot, M_{\\rm Ni} = 0.4\\,M_\\odot$\")\n",
    "        \n",
    "        Mni_ = 0.35\n",
    "        Mej_ = 5.7\n",
    "        Mej = Mej_ * Msun\n",
    "        taum = np.sqrt(2 * kappa_opt * Mej / 13.8 / v_phot / c) \n",
    "        taum_ = taum / 24/3600\n",
    "        Ls = model_arnett_modified(ts_, taum_ = taum_, Mni_ = Mni_, t0_ = 30)\n",
    "        ax.plot(ts_, np.log10(Ls), color = \"tab:green\", linewidth = 1,\n",
    "                linestyle = \"--\",\n",
    "                label = r\"$M_{\\rm ej} = 5.7\\,M_\\odot, M_{\\rm Ni} = 0.35\\,M_\\odot$\")"
   ]
  },
  {
   "cell_type": "code",
   "execution_count": 8,
   "metadata": {},
   "outputs": [
    {
     "name": "stderr",
     "output_type": "stream",
     "text": [
      "/var/folders/51/8dbdmtw12rn86njf20zwrsc80000gn/T/ipykernel_63332/2966940623.py:73: RuntimeWarning: divide by zero encountered in log10\n",
      "  ax.plot(ts_, np.log10(Ls), color = \"tab:orange\", linewidth = 1,\n",
      "/var/folders/51/8dbdmtw12rn86njf20zwrsc80000gn/T/ipykernel_63332/2966940623.py:83: RuntimeWarning: divide by zero encountered in log10\n",
      "  ax.plot(ts_, np.log10(Ls), color = \"tab:green\", linewidth = 1,\n"
     ]
    },
    {
     "data": {
      "image/png": "[encoded data removed]",
      "text/plain": [
       "<Figure size 345.6x259.2 with 2 Axes>"
      ]
     },
     "metadata": {
      "needs_background": "light"
     },
     "output_type": "display_data"
    }
   ],
   "source": [
    "plot_Lbol()"
   ]
  },
  {
   "cell_type": "code",
   "execution_count": null,
   "metadata": {},
   "outputs": [],
   "source": []
  }
 ],
 "metadata": {
  "kernelspec": {
   "display_name": "Python 3 (ipykernel)",
   "language": "python",
   "name": "python3"
  },
  "language_info": {
   "codemirror_mode": {
    "name": "ipython",
    "version": 3
   },
   "file_extension": ".py",
   "mimetype": "text/x-python",
   "name": "python",
   "nbconvert_exporter": "python",
   "pygments_lexer": "ipython3",
   "version": "3.9.7"
  }
 },
 "nbformat": 4,
 "nbformat_minor": 4
}
